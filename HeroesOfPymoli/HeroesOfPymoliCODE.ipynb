{
 "cells": [
  {
   "cell_type": "markdown",
   "metadata": {},
   "source": [
    "### Note\n",
    "* Instructions have been included for each segment. You do not have to follow them exactly, but they are included to help you think through the steps."
   ]
  },
  {
   "cell_type": "code",
   "execution_count": 3,
   "metadata": {},
   "outputs": [],
   "source": [
    "import pandas as pd\n",
    "import numpy as np\n",
    "\n",
    "file_to_load = \"Resources/purchase_data.csv\"\n",
    "\n",
    "purchase_data = pd.read_csv(file_to_load)"
   ]
  },
  {
   "cell_type": "markdown",
   "metadata": {},
   "source": [
    "## Player Count"
   ]
  },
  {
   "cell_type": "markdown",
   "metadata": {},
   "source": [
    "* Display the total number of players\n"
   ]
  },
  {
   "cell_type": "code",
   "execution_count": 4,
   "metadata": {},
   "outputs": [
    {
     "data": {
      "text/html": [
       "<div>\n",
       "<style scoped>\n",
       "    .dataframe tbody tr th:only-of-type {\n",
       "        vertical-align: middle;\n",
       "    }\n",
       "\n",
       "    .dataframe tbody tr th {\n",
       "        vertical-align: top;\n",
       "    }\n",
       "\n",
       "    .dataframe thead th {\n",
       "        text-align: right;\n",
       "    }\n",
       "</style>\n",
       "<table border=\"1\" class=\"dataframe\">\n",
       "  <thead>\n",
       "    <tr style=\"text-align: right;\">\n",
       "      <th></th>\n",
       "      <th>Total Players</th>\n",
       "    </tr>\n",
       "  </thead>\n",
       "  <tbody>\n",
       "    <tr>\n",
       "      <td>0</td>\n",
       "      <td>576</td>\n",
       "    </tr>\n",
       "  </tbody>\n",
       "</table>\n",
       "</div>"
      ],
      "text/plain": [
       "   Total Players\n",
       "0            576"
      ]
     },
     "execution_count": 4,
     "metadata": {},
     "output_type": "execute_result"
    }
   ],
   "source": [
    "total_players = len(purchase_data[\"SN\"].value_counts())\n",
    "\n",
    "player_count = pd.DataFrame({\"Total Players\":[total_players]})\n",
    "player_count"
   ]
  },
  {
   "cell_type": "markdown",
   "metadata": {},
   "source": [
    "## Purchasing Analysis (Total)"
   ]
  },
  {
   "cell_type": "markdown",
   "metadata": {},
   "source": [
    "* Run basic calculations to obtain number of unique items, average price, etc.\n",
    "\n",
    "\n",
    "* Create a summary data frame to hold the results\n",
    "\n",
    "\n",
    "* Optional: give the displayed data cleaner formatting\n",
    "\n",
    "\n",
    "* Display the summary data frame\n"
   ]
  },
  {
   "cell_type": "code",
   "execution_count": 5,
   "metadata": {
    "scrolled": true
   },
   "outputs": [
    {
     "data": {
      "text/html": [
       "<style  type=\"text/css\" >\n",
       "</style><table id=\"T_d0a0096a_0994_11ea_9aad_acde48001122\" ><thead>    <tr>        <th class=\"blank level0\" ></th>        <th class=\"col_heading level0 col0\" >Number of Unique Items</th>        <th class=\"col_heading level0 col1\" >Average Price</th>        <th class=\"col_heading level0 col2\" >Number of Purchases</th>        <th class=\"col_heading level0 col3\" >Total Revenue</th>    </tr></thead><tbody>\n",
       "                <tr>\n",
       "                        <th id=\"T_d0a0096a_0994_11ea_9aad_acde48001122level0_row0\" class=\"row_heading level0 row0\" >0</th>\n",
       "                        <td id=\"T_d0a0096a_0994_11ea_9aad_acde48001122row0_col0\" class=\"data row0 col0\" >183</td>\n",
       "                        <td id=\"T_d0a0096a_0994_11ea_9aad_acde48001122row0_col1\" class=\"data row0 col1\" >$3.05</td>\n",
       "                        <td id=\"T_d0a0096a_0994_11ea_9aad_acde48001122row0_col2\" class=\"data row0 col2\" >780</td>\n",
       "                        <td id=\"T_d0a0096a_0994_11ea_9aad_acde48001122row0_col3\" class=\"data row0 col3\" >$2,379.77</td>\n",
       "            </tr>\n",
       "    </tbody></table>"
      ],
      "text/plain": [
       "<pandas.io.formats.style.Styler at 0x120b329d0>"
      ]
     },
     "execution_count": 5,
     "metadata": {},
     "output_type": "execute_result"
    }
   ],
   "source": [
    "# Unique items, average price, purchase count, revenue\n",
    "number_of_unique_items = len((purchase_data[\"Item ID\"]).unique())\n",
    "average_price = (purchase_data[\"Price\"]).mean()\n",
    "number_of_purchases = (purchase_data[\"Purchase ID\"]).count()\n",
    "total_revenue = (purchase_data[\"Price\"]).sum()\n",
    "\n",
    "# Summary\n",
    "summary_df = pd.DataFrame({\"Number of Unique Items\":[number_of_unique_items],\n",
    "                           \"Average Price\":[average_price], \n",
    "                           \"Number of Purchases\": [number_of_purchases], \n",
    "                           \"Total Revenue\": [total_revenue]})\n",
    "\n",
    "# Currency format\n",
    "summary_df.style.format({'Average Price':\"${:,.2f}\",\n",
    "                         'Total Revenue': '${:,.2f}'})"
   ]
  },
  {
   "cell_type": "markdown",
   "metadata": {},
   "source": [
    "## Gender Demographics"
   ]
  },
  {
   "cell_type": "markdown",
   "metadata": {},
   "source": [
    "* Percentage and Count of Male Players\n",
    "\n",
    "\n",
    "* Percentage and Count of Female Players\n",
    "\n",
    "\n",
    "* Percentage and Count of Other / Non-Disclosed\n",
    "\n",
    "\n"
   ]
  },
  {
   "cell_type": "code",
   "execution_count": 6,
   "metadata": {},
   "outputs": [
    {
     "data": {
      "text/html": [
       "<div>\n",
       "<style scoped>\n",
       "    .dataframe tbody tr th:only-of-type {\n",
       "        vertical-align: middle;\n",
       "    }\n",
       "\n",
       "    .dataframe tbody tr th {\n",
       "        vertical-align: top;\n",
       "    }\n",
       "\n",
       "    .dataframe thead th {\n",
       "        text-align: right;\n",
       "    }\n",
       "</style>\n",
       "<table border=\"1\" class=\"dataframe\">\n",
       "  <thead>\n",
       "    <tr style=\"text-align: right;\">\n",
       "      <th></th>\n",
       "      <th>Percentage of Players</th>\n",
       "      <th>Total Count</th>\n",
       "    </tr>\n",
       "    <tr>\n",
       "      <th>Gender</th>\n",
       "      <th></th>\n",
       "      <th></th>\n",
       "    </tr>\n",
       "  </thead>\n",
       "  <tbody>\n",
       "    <tr>\n",
       "      <td>Female</td>\n",
       "      <td>14.062500</td>\n",
       "      <td>81</td>\n",
       "    </tr>\n",
       "    <tr>\n",
       "      <td>Male</td>\n",
       "      <td>84.027778</td>\n",
       "      <td>484</td>\n",
       "    </tr>\n",
       "    <tr>\n",
       "      <td>Other / Non-Disclosed</td>\n",
       "      <td>1.909722</td>\n",
       "      <td>11</td>\n",
       "    </tr>\n",
       "  </tbody>\n",
       "</table>\n",
       "</div>"
      ],
      "text/plain": [
       "                       Percentage of Players  Total Count\n",
       "Gender                                                   \n",
       "Female                             14.062500           81\n",
       "Male                               84.027778          484\n",
       "Other / Non-Disclosed               1.909722           11"
      ]
     },
     "execution_count": 6,
     "metadata": {},
     "output_type": "execute_result"
    }
   ],
   "source": [
    "# Separate By Gender\n",
    "gender_stats = purchase_data.groupby(\"Gender\")\n",
    "\n",
    "# Total SN's by gender\n",
    "total_count_gender = gender_stats.nunique()[\"SN\"]\n",
    "\n",
    "# Total by gender / total players \n",
    "percentage_of_players = total_count_gender / total_players * 100\n",
    "\n",
    "# New df with results\n",
    "gender_demo = pd.DataFrame({\"Percentage of Players\": percentage_of_players, \"Total Count\": total_count_gender})\n",
    "\n",
    "gender_demo"
   ]
  },
  {
   "cell_type": "markdown",
   "metadata": {},
   "source": [
    "\n",
    "## Purchasing Analysis (Gender)"
   ]
  },
  {
   "cell_type": "markdown",
   "metadata": {},
   "source": [
    "* Run basic calculations to obtain purchase count, avg. purchase price, avg. purchase total per person etc. by gender\n",
    "\n",
    "\n",
    "\n",
    "\n",
    "* Create a summary data frame to hold the results\n",
    "\n",
    "\n",
    "* Optional: give the displayed data cleaner formatting\n",
    "\n",
    "\n",
    "* Display the summary data frame"
   ]
  },
  {
   "cell_type": "code",
   "execution_count": 7,
   "metadata": {},
   "outputs": [
    {
     "data": {
      "text/html": [
       "<style  type=\"text/css\" >\n",
       "</style><table id=\"T_d0ea871a_0994_11ea_9aad_acde48001122\" ><thead>    <tr>        <th class=\"blank level0\" ></th>        <th class=\"col_heading level0 col0\" >Purchase Count</th>        <th class=\"col_heading level0 col1\" >Average Purchase Price</th>        <th class=\"col_heading level0 col2\" >Average Purchase Value</th>        <th class=\"col_heading level0 col3\" >Avg Purchase Total per Person</th>    </tr>    <tr>        <th class=\"index_name level0\" >Gender</th>        <th class=\"blank\" ></th>        <th class=\"blank\" ></th>        <th class=\"blank\" ></th>        <th class=\"blank\" ></th>    </tr></thead><tbody>\n",
       "                <tr>\n",
       "                        <th id=\"T_d0ea871a_0994_11ea_9aad_acde48001122level0_row0\" class=\"row_heading level0 row0\" >Female</th>\n",
       "                        <td id=\"T_d0ea871a_0994_11ea_9aad_acde48001122row0_col0\" class=\"data row0 col0\" >113</td>\n",
       "                        <td id=\"T_d0ea871a_0994_11ea_9aad_acde48001122row0_col1\" class=\"data row0 col1\" >$3.20</td>\n",
       "                        <td id=\"T_d0ea871a_0994_11ea_9aad_acde48001122row0_col2\" class=\"data row0 col2\" >$361.94</td>\n",
       "                        <td id=\"T_d0ea871a_0994_11ea_9aad_acde48001122row0_col3\" class=\"data row0 col3\" >$4.47</td>\n",
       "            </tr>\n",
       "            <tr>\n",
       "                        <th id=\"T_d0ea871a_0994_11ea_9aad_acde48001122level0_row1\" class=\"row_heading level0 row1\" >Male</th>\n",
       "                        <td id=\"T_d0ea871a_0994_11ea_9aad_acde48001122row1_col0\" class=\"data row1 col0\" >652</td>\n",
       "                        <td id=\"T_d0ea871a_0994_11ea_9aad_acde48001122row1_col1\" class=\"data row1 col1\" >$3.02</td>\n",
       "                        <td id=\"T_d0ea871a_0994_11ea_9aad_acde48001122row1_col2\" class=\"data row1 col2\" >$1,967.64</td>\n",
       "                        <td id=\"T_d0ea871a_0994_11ea_9aad_acde48001122row1_col3\" class=\"data row1 col3\" >$4.07</td>\n",
       "            </tr>\n",
       "            <tr>\n",
       "                        <th id=\"T_d0ea871a_0994_11ea_9aad_acde48001122level0_row2\" class=\"row_heading level0 row2\" >Other / Non-Disclosed</th>\n",
       "                        <td id=\"T_d0ea871a_0994_11ea_9aad_acde48001122row2_col0\" class=\"data row2 col0\" >15</td>\n",
       "                        <td id=\"T_d0ea871a_0994_11ea_9aad_acde48001122row2_col1\" class=\"data row2 col1\" >$3.35</td>\n",
       "                        <td id=\"T_d0ea871a_0994_11ea_9aad_acde48001122row2_col2\" class=\"data row2 col2\" >$50.19</td>\n",
       "                        <td id=\"T_d0ea871a_0994_11ea_9aad_acde48001122row2_col3\" class=\"data row2 col3\" >$4.56</td>\n",
       "            </tr>\n",
       "    </tbody></table>"
      ],
      "text/plain": [
       "<pandas.io.formats.style.Styler at 0x1216bbf50>"
      ]
     },
     "execution_count": 7,
     "metadata": {},
     "output_type": "execute_result"
    }
   ],
   "source": [
    "# Total purchases by M/F \n",
    "purchase_count = gender_stats[\"Purchase ID\"].count()\n",
    "\n",
    "# Av purchase price by M/F\n",
    "avg_purchase_price = gender_stats[\"Price\"].mean()\n",
    "\n",
    "# Av purchase total by M/F \n",
    "avg_purchase_total = gender_stats[\"Price\"].sum()\n",
    "\n",
    "# Av purchase total by M/F / purchase count by unique buyers\n",
    "avg_purchase_per_person = avg_purchase_total/total_count_gender\n",
    "\n",
    "# Create data frame with obtained values \n",
    "gender_demographics = pd.DataFrame({\"Purchase Count\": purchase_count, \n",
    "                                    \"Average Purchase Price\": avg_purchase_price,\n",
    "                                    \"Average Purchase Value\":avg_purchase_total,\n",
    "                                    \"Avg Purchase Total per Person\": avg_purchase_per_person})\n",
    "\n",
    "# Provide index in top left as \"Gender\"\n",
    "gender_demographics.index.name = \"Gender\"\n",
    "\n",
    "# Format with currency style\n",
    "gender_demographics.style.format({\"Average Purchase Value\":\"${:,.2f}\",\n",
    "                                  \"Average Purchase Price\":\"${:,.2f}\",\n",
    "                                  \"Avg Purchase Total per Person\":\"${:,.2f}\"})"
   ]
  },
  {
   "cell_type": "markdown",
   "metadata": {},
   "source": [
    "## Age Demographics"
   ]
  },
  {
   "cell_type": "markdown",
   "metadata": {},
   "source": [
    "* Establish bins for ages\n",
    "\n",
    "\n",
    "* Categorize the existing players using the age bins. Hint: use pd.cut()\n",
    "\n",
    "\n",
    "* Calculate the numbers and percentages by age group\n",
    "\n",
    "\n",
    "* Create a summary data frame to hold the results\n",
    "\n",
    "\n",
    "* Optional: round the percentage column to two decimal points\n",
    "\n",
    "\n",
    "* Display Age Demographics Table\n"
   ]
  },
  {
   "cell_type": "code",
   "execution_count": 10,
   "metadata": {},
   "outputs": [
    {
     "data": {
      "text/html": [
       "<div>\n",
       "<style scoped>\n",
       "    .dataframe tbody tr th:only-of-type {\n",
       "        vertical-align: middle;\n",
       "    }\n",
       "\n",
       "    .dataframe tbody tr th {\n",
       "        vertical-align: top;\n",
       "    }\n",
       "\n",
       "    .dataframe thead th {\n",
       "        text-align: right;\n",
       "    }\n",
       "</style>\n",
       "<table border=\"1\" class=\"dataframe\">\n",
       "  <thead>\n",
       "    <tr style=\"text-align: right;\">\n",
       "      <th></th>\n",
       "      <th>Total Count</th>\n",
       "      <th>Percentage of Players</th>\n",
       "    </tr>\n",
       "    <tr>\n",
       "      <th>Age Groups</th>\n",
       "      <th></th>\n",
       "      <th></th>\n",
       "    </tr>\n",
       "  </thead>\n",
       "  <tbody>\n",
       "    <tr>\n",
       "      <td>Under 10</td>\n",
       "      <td>32</td>\n",
       "      <td>4.102564</td>\n",
       "    </tr>\n",
       "    <tr>\n",
       "      <td>10 - 14</td>\n",
       "      <td>54</td>\n",
       "      <td>6.923077</td>\n",
       "    </tr>\n",
       "    <tr>\n",
       "      <td>15 - 19</td>\n",
       "      <td>200</td>\n",
       "      <td>25.641026</td>\n",
       "    </tr>\n",
       "    <tr>\n",
       "      <td>20 - 24</td>\n",
       "      <td>325</td>\n",
       "      <td>41.666667</td>\n",
       "    </tr>\n",
       "    <tr>\n",
       "      <td>25 - 29</td>\n",
       "      <td>77</td>\n",
       "      <td>9.871795</td>\n",
       "    </tr>\n",
       "    <tr>\n",
       "      <td>30 - 34</td>\n",
       "      <td>52</td>\n",
       "      <td>6.666667</td>\n",
       "    </tr>\n",
       "    <tr>\n",
       "      <td>35 - 39</td>\n",
       "      <td>33</td>\n",
       "      <td>4.230769</td>\n",
       "    </tr>\n",
       "    <tr>\n",
       "      <td>Over 40</td>\n",
       "      <td>7</td>\n",
       "      <td>0.897436</td>\n",
       "    </tr>\n",
       "  </tbody>\n",
       "</table>\n",
       "</div>"
      ],
      "text/plain": [
       "            Total Count  Percentage of Players\n",
       "Age Groups                                    \n",
       "Under 10             32               4.102564\n",
       "10 - 14              54               6.923077\n",
       "15 - 19             200              25.641026\n",
       "20 - 24             325              41.666667\n",
       "25 - 29              77               9.871795\n",
       "30 - 34              52               6.666667\n",
       "35 - 39              33               4.230769\n",
       "Over 40               7               0.897436"
      ]
     },
     "execution_count": 10,
     "metadata": {},
     "output_type": "execute_result"
    }
   ],
   "source": [
    "# Binning\n",
    "bins = [0,10,15,20,25,30,35,40,200]\n",
    "binLab = ['Under 10', '10 - 14', '15 - 19', '20 - 24', '25 - 29', '30 - 34', '35 - 39', 'Over 40']\n",
    "\n",
    "bin_df = purchase_data.copy()\n",
    "bin_df[\"Age Groups\"] = pd.cut(bin_df[\"Age\"], bins, labels=binLab)\n",
    "group_bin = bin_df.groupby([\"Age Groups\"])\n",
    "\n",
    "binCount = group_bin[\"SN\"].count()\n",
    "countTotal = purchase_data[\"SN\"].count()\n",
    "percentage = (binCount / countTotal) * 100\n",
    "percentage\n",
    "\n",
    "# New df with results\n",
    "Age_Perc = pd.DataFrame({\"Total Count\": binCount,\n",
    "                         \"Percentage of Players\": percentage})\n",
    "\n",
    "Age_Perc"
   ]
  },
  {
   "cell_type": "markdown",
   "metadata": {},
   "source": [
    "## Purchasing Analysis (Age)"
   ]
  },
  {
   "cell_type": "markdown",
   "metadata": {},
   "source": [
    "* Bin the purchase_data data frame by age\n",
    "\n",
    "\n",
    "* Run basic calculations to obtain purchase count, avg. purchase price, avg. purchase total per person etc. in the table below\n",
    "\n",
    "\n",
    "* Create a summary data frame to hold the results\n",
    "\n",
    "\n",
    "* Optional: give the displayed data cleaner formatting\n",
    "\n",
    "\n",
    "* Display the summary data frame"
   ]
  },
  {
   "cell_type": "code",
   "execution_count": 63,
   "metadata": {},
   "outputs": [
    {
     "ename": "NameError",
     "evalue": "name 'age_grouped' is not defined",
     "output_type": "error",
     "traceback": [
      "\u001b[0;31m---------------------------------------------------------------------------\u001b[0m",
      "\u001b[0;31mNameError\u001b[0m                                 Traceback (most recent call last)",
      "\u001b[0;32m<ipython-input-63-1c10dfd2b624>\u001b[0m in \u001b[0;36m<module>\u001b[0;34m\u001b[0m\n\u001b[1;32m      1\u001b[0m \u001b[0;31m# Count purchases by age group\u001b[0m\u001b[0;34m\u001b[0m\u001b[0;34m\u001b[0m\u001b[0;34m\u001b[0m\u001b[0m\n\u001b[0;32m----> 2\u001b[0;31m \u001b[0mpurchase_count_age\u001b[0m \u001b[0;34m=\u001b[0m \u001b[0mage_grouped\u001b[0m\u001b[0;34m[\u001b[0m\u001b[0;34m\"Purchase ID\"\u001b[0m\u001b[0;34m]\u001b[0m\u001b[0;34m.\u001b[0m\u001b[0mcount\u001b[0m\u001b[0;34m(\u001b[0m\u001b[0;34m)\u001b[0m\u001b[0;34m\u001b[0m\u001b[0;34m\u001b[0m\u001b[0m\n\u001b[0m\u001b[1;32m      3\u001b[0m \u001b[0;34m\u001b[0m\u001b[0m\n\u001b[1;32m      4\u001b[0m \u001b[0;31m# Obtain average purchase price by age group\u001b[0m\u001b[0;34m\u001b[0m\u001b[0;34m\u001b[0m\u001b[0;34m\u001b[0m\u001b[0m\n\u001b[1;32m      5\u001b[0m \u001b[0mavg_purchase_price_age\u001b[0m \u001b[0;34m=\u001b[0m \u001b[0mage_grouped\u001b[0m\u001b[0;34m[\u001b[0m\u001b[0;34m\"Price\"\u001b[0m\u001b[0;34m]\u001b[0m\u001b[0;34m.\u001b[0m\u001b[0mmean\u001b[0m\u001b[0;34m(\u001b[0m\u001b[0;34m)\u001b[0m\u001b[0;34m\u001b[0m\u001b[0;34m\u001b[0m\u001b[0m\n",
      "\u001b[0;31mNameError\u001b[0m: name 'age_grouped' is not defined"
     ]
    }
   ],
   "source": [
    "# Purchases by age group\n",
    "purchase_count_age = age_grouped[\"Purchase ID\"].count()\n",
    "\n",
    "# Av\n",
    "avg_purchase_price_age = age_grouped[\"Price\"].mean()\n",
    "\n",
    "# TPV by group\n",
    "total_purchase_value = age_grouped[\"Price\"].sum()\n",
    "\n",
    "# Av purchase/person\n",
    "avg_purchase_per_person_age = total_purchase_value/total_count_age\n",
    "\n",
    "# Create data frame with obtained values\n",
    "age_demographics = pd.DataFrame({\"Purchase Count\": purchase_count_age,\n",
    "                                 \"Average Purchase Price\": avg_purchase_price_age,\n",
    "                                 \"Total Purchase Value\":total_purchase_value,\n",
    "                                 \"Average Purchase Total per Person\": avg_purchase_per_person_age})\n",
    "\n",
    "# Format the data frame with no index name in the corner\n",
    "age_demographics.index.name = None"
   ]
  },
  {
   "cell_type": "markdown",
   "metadata": {},
   "source": [
    "## Top Spenders"
   ]
  },
  {
   "cell_type": "markdown",
   "metadata": {},
   "source": [
    "* Run basic calculations to obtain the results in the table below\n",
    "\n",
    "\n",
    "* Create a summary data frame to hold the results\n",
    "\n",
    "\n",
    "* Sort the total purchase value column in descending order\n",
    "\n",
    "\n",
    "* Optional: give the displayed data cleaner formatting\n",
    "\n",
    "\n",
    "* Display a preview of the summary data frame\n",
    "\n"
   ]
  },
  {
   "cell_type": "code",
   "execution_count": 64,
   "metadata": {},
   "outputs": [
    {
     "data": {
      "text/html": [
       "<style  type=\"text/css\" >\n",
       "</style><table id=\"T_9c6caaaa_0993_11ea_a3fe_acde48001122\" ><thead>    <tr>        <th class=\"blank level0\" ></th>        <th class=\"col_heading level0 col0\" >Purchase Count</th>        <th class=\"col_heading level0 col1\" >Average Purchase Price</th>        <th class=\"col_heading level0 col2\" >Total Purchase Value</th>    </tr>    <tr>        <th class=\"index_name level0\" >SN</th>        <th class=\"blank\" ></th>        <th class=\"blank\" ></th>        <th class=\"blank\" ></th>    </tr></thead><tbody>\n",
       "                <tr>\n",
       "                        <th id=\"T_9c6caaaa_0993_11ea_a3fe_acde48001122level0_row0\" class=\"row_heading level0 row0\" >Lisosia93</th>\n",
       "                        <td id=\"T_9c6caaaa_0993_11ea_a3fe_acde48001122row0_col0\" class=\"data row0 col0\" >5</td>\n",
       "                        <td id=\"T_9c6caaaa_0993_11ea_a3fe_acde48001122row0_col1\" class=\"data row0 col1\" >$3.79</td>\n",
       "                        <td id=\"T_9c6caaaa_0993_11ea_a3fe_acde48001122row0_col2\" class=\"data row0 col2\" >$18.96</td>\n",
       "            </tr>\n",
       "            <tr>\n",
       "                        <th id=\"T_9c6caaaa_0993_11ea_a3fe_acde48001122level0_row1\" class=\"row_heading level0 row1\" >Idastidru52</th>\n",
       "                        <td id=\"T_9c6caaaa_0993_11ea_a3fe_acde48001122row1_col0\" class=\"data row1 col0\" >4</td>\n",
       "                        <td id=\"T_9c6caaaa_0993_11ea_a3fe_acde48001122row1_col1\" class=\"data row1 col1\" >$3.86</td>\n",
       "                        <td id=\"T_9c6caaaa_0993_11ea_a3fe_acde48001122row1_col2\" class=\"data row1 col2\" >$15.45</td>\n",
       "            </tr>\n",
       "            <tr>\n",
       "                        <th id=\"T_9c6caaaa_0993_11ea_a3fe_acde48001122level0_row2\" class=\"row_heading level0 row2\" >Chamjask73</th>\n",
       "                        <td id=\"T_9c6caaaa_0993_11ea_a3fe_acde48001122row2_col0\" class=\"data row2 col0\" >3</td>\n",
       "                        <td id=\"T_9c6caaaa_0993_11ea_a3fe_acde48001122row2_col1\" class=\"data row2 col1\" >$4.61</td>\n",
       "                        <td id=\"T_9c6caaaa_0993_11ea_a3fe_acde48001122row2_col2\" class=\"data row2 col2\" >$13.83</td>\n",
       "            </tr>\n",
       "            <tr>\n",
       "                        <th id=\"T_9c6caaaa_0993_11ea_a3fe_acde48001122level0_row3\" class=\"row_heading level0 row3\" >Iral74</th>\n",
       "                        <td id=\"T_9c6caaaa_0993_11ea_a3fe_acde48001122row3_col0\" class=\"data row3 col0\" >4</td>\n",
       "                        <td id=\"T_9c6caaaa_0993_11ea_a3fe_acde48001122row3_col1\" class=\"data row3 col1\" >$3.40</td>\n",
       "                        <td id=\"T_9c6caaaa_0993_11ea_a3fe_acde48001122row3_col2\" class=\"data row3 col2\" >$13.62</td>\n",
       "            </tr>\n",
       "            <tr>\n",
       "                        <th id=\"T_9c6caaaa_0993_11ea_a3fe_acde48001122level0_row4\" class=\"row_heading level0 row4\" >Iskadarya95</th>\n",
       "                        <td id=\"T_9c6caaaa_0993_11ea_a3fe_acde48001122row4_col0\" class=\"data row4 col0\" >3</td>\n",
       "                        <td id=\"T_9c6caaaa_0993_11ea_a3fe_acde48001122row4_col1\" class=\"data row4 col1\" >$4.37</td>\n",
       "                        <td id=\"T_9c6caaaa_0993_11ea_a3fe_acde48001122row4_col2\" class=\"data row4 col2\" >$13.10</td>\n",
       "            </tr>\n",
       "    </tbody></table>"
      ],
      "text/plain": [
       "<pandas.io.formats.style.Styler at 0x11529d550>"
      ]
     },
     "execution_count": 64,
     "metadata": {},
     "output_type": "execute_result"
    }
   ],
   "source": [
    "# SN grouping\n",
    "spender_stats = purchase_data.groupby(\"SN\")\n",
    "\n",
    "# Total purchases by purchase id\n",
    "purchase_count_spender = spender_stats[\"Purchase ID\"].count()\n",
    "\n",
    "# Purchase av\n",
    "avg_purchase_price_spender = spender_stats[\"Price\"].mean()\n",
    "\n",
    "# Purchase total\n",
    "purchase_total_spender = spender_stats[\"Price\"].sum()\n",
    "\n",
    "# New df\n",
    "top_spenders = pd.DataFrame({\"Purchase Count\": purchase_count_spender,\n",
    "                             \"Average Purchase Price\": avg_purchase_price_spender,\n",
    "                             \"Total Purchase Value\":purchase_total_spender})\n",
    "\n",
    "# Sort in descending order to obtain top 5 spender names \n",
    "formatted_spenders = top_spenders.sort_values([\"Total Purchase Value\"], ascending=False).head()\n",
    "\n",
    "# Format with currency style\n",
    "formatted_spenders.style.format({\"Average Purchase Total\":\"${:,.2f}\",\n",
    "                                 \"Average Purchase Price\":\"${:,.2f}\", \n",
    "                                 \"Total Purchase Value\":\"${:,.2f}\"})"
   ]
  },
  {
   "cell_type": "markdown",
   "metadata": {},
   "source": [
    "## Most Popular Items"
   ]
  },
  {
   "cell_type": "markdown",
   "metadata": {},
   "source": [
    "* Retrieve the Item ID, Item Name, and Item Price columns\n",
    "\n",
    "\n",
    "* Group by Item ID and Item Name. Perform calculations to obtain purchase count, item price, and total purchase value\n",
    "\n",
    "\n",
    "* Create a summary data frame to hold the results\n",
    "\n",
    "\n",
    "* Sort the purchase count column in descending order\n",
    "\n",
    "\n",
    "* Optional: give the displayed data cleaner formatting\n",
    "\n",
    "\n",
    "* Display a preview of the summary data frame\n",
    "\n"
   ]
  },
  {
   "cell_type": "code",
   "execution_count": 65,
   "metadata": {},
   "outputs": [
    {
     "data": {
      "text/html": [
       "<div>\n",
       "<style scoped>\n",
       "    .dataframe tbody tr th:only-of-type {\n",
       "        vertical-align: middle;\n",
       "    }\n",
       "\n",
       "    .dataframe tbody tr th {\n",
       "        vertical-align: top;\n",
       "    }\n",
       "\n",
       "    .dataframe thead th {\n",
       "        text-align: right;\n",
       "    }\n",
       "</style>\n",
       "<table border=\"1\" class=\"dataframe\">\n",
       "  <thead>\n",
       "    <tr style=\"text-align: right;\">\n",
       "      <th></th>\n",
       "      <th></th>\n",
       "      <th>Purchase Count</th>\n",
       "      <th>Item Price</th>\n",
       "      <th>Total Purchase Value</th>\n",
       "    </tr>\n",
       "    <tr>\n",
       "      <th>Item ID</th>\n",
       "      <th>Item Name</th>\n",
       "      <th></th>\n",
       "      <th></th>\n",
       "      <th></th>\n",
       "    </tr>\n",
       "  </thead>\n",
       "  <tbody>\n",
       "    <tr>\n",
       "      <td>0</td>\n",
       "      <td>Splinter</td>\n",
       "      <td>4</td>\n",
       "      <td>1.28</td>\n",
       "      <td>5.12</td>\n",
       "    </tr>\n",
       "    <tr>\n",
       "      <td>1</td>\n",
       "      <td>Crucifer</td>\n",
       "      <td>3</td>\n",
       "      <td>3.26</td>\n",
       "      <td>9.78</td>\n",
       "    </tr>\n",
       "    <tr>\n",
       "      <td>2</td>\n",
       "      <td>Verdict</td>\n",
       "      <td>6</td>\n",
       "      <td>2.48</td>\n",
       "      <td>14.88</td>\n",
       "    </tr>\n",
       "    <tr>\n",
       "      <td>3</td>\n",
       "      <td>Phantomlight</td>\n",
       "      <td>6</td>\n",
       "      <td>2.49</td>\n",
       "      <td>14.94</td>\n",
       "    </tr>\n",
       "    <tr>\n",
       "      <td>4</td>\n",
       "      <td>Bloodlord's Fetish</td>\n",
       "      <td>5</td>\n",
       "      <td>1.70</td>\n",
       "      <td>8.50</td>\n",
       "    </tr>\n",
       "    <tr>\n",
       "      <td>...</td>\n",
       "      <td>...</td>\n",
       "      <td>...</td>\n",
       "      <td>...</td>\n",
       "      <td>...</td>\n",
       "    </tr>\n",
       "    <tr>\n",
       "      <td>179</td>\n",
       "      <td>Wolf, Promise of the Moonwalker</td>\n",
       "      <td>6</td>\n",
       "      <td>4.48</td>\n",
       "      <td>26.88</td>\n",
       "    </tr>\n",
       "    <tr>\n",
       "      <td>180</td>\n",
       "      <td>Stormcaller</td>\n",
       "      <td>1</td>\n",
       "      <td>3.36</td>\n",
       "      <td>3.36</td>\n",
       "    </tr>\n",
       "    <tr>\n",
       "      <td>181</td>\n",
       "      <td>Reaper's Toll</td>\n",
       "      <td>5</td>\n",
       "      <td>1.66</td>\n",
       "      <td>8.30</td>\n",
       "    </tr>\n",
       "    <tr>\n",
       "      <td>182</td>\n",
       "      <td>Toothpick</td>\n",
       "      <td>3</td>\n",
       "      <td>4.03</td>\n",
       "      <td>12.09</td>\n",
       "    </tr>\n",
       "    <tr>\n",
       "      <td>183</td>\n",
       "      <td>Dragon's Greatsword</td>\n",
       "      <td>3</td>\n",
       "      <td>1.09</td>\n",
       "      <td>3.27</td>\n",
       "    </tr>\n",
       "  </tbody>\n",
       "</table>\n",
       "<p>183 rows × 3 columns</p>\n",
       "</div>"
      ],
      "text/plain": [
       "                                         Purchase Count  Item Price  \\\n",
       "Item ID Item Name                                                     \n",
       "0       Splinter                                      4        1.28   \n",
       "1       Crucifer                                      3        3.26   \n",
       "2       Verdict                                       6        2.48   \n",
       "3       Phantomlight                                  6        2.49   \n",
       "4       Bloodlord's Fetish                            5        1.70   \n",
       "...                                                 ...         ...   \n",
       "179     Wolf, Promise of the Moonwalker               6        4.48   \n",
       "180     Stormcaller                                   1        3.36   \n",
       "181     Reaper's Toll                                 5        1.66   \n",
       "182     Toothpick                                     3        4.03   \n",
       "183     Dragon's Greatsword                           3        1.09   \n",
       "\n",
       "                                         Total Purchase Value  \n",
       "Item ID Item Name                                              \n",
       "0       Splinter                                         5.12  \n",
       "1       Crucifer                                         9.78  \n",
       "2       Verdict                                         14.88  \n",
       "3       Phantomlight                                    14.94  \n",
       "4       Bloodlord's Fetish                               8.50  \n",
       "...                                                       ...  \n",
       "179     Wolf, Promise of the Moonwalker                 26.88  \n",
       "180     Stormcaller                                      3.36  \n",
       "181     Reaper's Toll                                    8.30  \n",
       "182     Toothpick                                       12.09  \n",
       "183     Dragon's Greatsword                              3.27  \n",
       "\n",
       "[183 rows x 3 columns]"
      ]
     },
     "execution_count": 65,
     "metadata": {},
     "output_type": "execute_result"
    }
   ],
   "source": [
    "# New df\n",
    "items = purchase_data[[\"Item ID\", \"Item Name\", \"Price\"]]\n",
    "\n",
    "# Group data\n",
    "item_stats = items.groupby([\"Item ID\",\"Item Name\"])\n",
    "\n",
    "# How many times item purchased\n",
    "purchase_count_item = item_stats[\"Price\"].count()\n",
    "\n",
    "# Purchase value / item\n",
    "purchase_value = (item_stats[\"Price\"].sum()) \n",
    "\n",
    "# Item priced\n",
    "item_price = purchase_value/purchase_count_item\n",
    "\n",
    "# New df with new info we just grabbed\n",
    "most_popular_items = pd.DataFrame({\"Purchase Count\": purchase_count_item, \n",
    "                                   \"Item Price\": item_price,\n",
    "                                   \"Total Purchase Value\":purchase_value})\n",
    "\n",
    "most_popular_items"
   ]
  },
  {
   "cell_type": "markdown",
   "metadata": {},
   "source": [
    "## Most Profitable Items"
   ]
  },
  {
   "cell_type": "markdown",
   "metadata": {},
   "source": [
    "* Sort the above table by total purchase value in descending order\n",
    "\n",
    "\n",
    "* Optional: give the displayed data cleaner formatting\n",
    "\n",
    "\n",
    "* Display a preview of the data frame\n",
    "\n"
   ]
  },
  {
   "cell_type": "code",
   "execution_count": 66,
   "metadata": {
    "scrolled": true
   },
   "outputs": [
    {
     "data": {
      "text/html": [
       "<div>\n",
       "<style scoped>\n",
       "    .dataframe tbody tr th:only-of-type {\n",
       "        vertical-align: middle;\n",
       "    }\n",
       "\n",
       "    .dataframe tbody tr th {\n",
       "        vertical-align: top;\n",
       "    }\n",
       "\n",
       "    .dataframe thead th {\n",
       "        text-align: right;\n",
       "    }\n",
       "</style>\n",
       "<table border=\"1\" class=\"dataframe\">\n",
       "  <thead>\n",
       "    <tr style=\"text-align: right;\">\n",
       "      <th></th>\n",
       "      <th></th>\n",
       "      <th>Purchase Count</th>\n",
       "      <th>Item Price</th>\n",
       "      <th>Total Purchase Value</th>\n",
       "    </tr>\n",
       "    <tr>\n",
       "      <th>Item ID</th>\n",
       "      <th>Item Name</th>\n",
       "      <th></th>\n",
       "      <th></th>\n",
       "      <th></th>\n",
       "    </tr>\n",
       "  </thead>\n",
       "  <tbody>\n",
       "    <tr>\n",
       "      <td>178</td>\n",
       "      <td>Oathbreaker, Last Hope of the Breaking Storm</td>\n",
       "      <td>12</td>\n",
       "      <td>4.23</td>\n",
       "      <td>50.76</td>\n",
       "    </tr>\n",
       "    <tr>\n",
       "      <td>82</td>\n",
       "      <td>Nirvana</td>\n",
       "      <td>9</td>\n",
       "      <td>4.90</td>\n",
       "      <td>44.10</td>\n",
       "    </tr>\n",
       "    <tr>\n",
       "      <td>145</td>\n",
       "      <td>Fiery Glass Crusader</td>\n",
       "      <td>9</td>\n",
       "      <td>4.58</td>\n",
       "      <td>41.22</td>\n",
       "    </tr>\n",
       "    <tr>\n",
       "      <td>92</td>\n",
       "      <td>Final Critic</td>\n",
       "      <td>8</td>\n",
       "      <td>4.88</td>\n",
       "      <td>39.04</td>\n",
       "    </tr>\n",
       "    <tr>\n",
       "      <td>103</td>\n",
       "      <td>Singed Scalpel</td>\n",
       "      <td>8</td>\n",
       "      <td>4.35</td>\n",
       "      <td>34.80</td>\n",
       "    </tr>\n",
       "  </tbody>\n",
       "</table>\n",
       "</div>"
      ],
      "text/plain": [
       "                                                      Purchase Count  \\\n",
       "Item ID Item Name                                                      \n",
       "178     Oathbreaker, Last Hope of the Breaking Storm              12   \n",
       "82      Nirvana                                                    9   \n",
       "145     Fiery Glass Crusader                                       9   \n",
       "92      Final Critic                                               8   \n",
       "103     Singed Scalpel                                             8   \n",
       "\n",
       "                                                      Item Price  \\\n",
       "Item ID Item Name                                                  \n",
       "178     Oathbreaker, Last Hope of the Breaking Storm        4.23   \n",
       "82      Nirvana                                             4.90   \n",
       "145     Fiery Glass Crusader                                4.58   \n",
       "92      Final Critic                                        4.88   \n",
       "103     Singed Scalpel                                      4.35   \n",
       "\n",
       "                                                      Total Purchase Value  \n",
       "Item ID Item Name                                                           \n",
       "178     Oathbreaker, Last Hope of the Breaking Storm                 50.76  \n",
       "82      Nirvana                                                      44.10  \n",
       "145     Fiery Glass Crusader                                         41.22  \n",
       "92      Final Critic                                                 39.04  \n",
       "103     Singed Scalpel                                               34.80  "
      ]
     },
     "execution_count": 66,
     "metadata": {},
     "output_type": "execute_result"
    }
   ],
   "source": [
    "# Highest total purchas value\n",
    "popular_formatted = most_popular_items.sort_values([\"Total Purchase Value\"],\n",
    "                                                   ascending=False).head()\n",
    "popular_formatted"
   ]
  },
  {
   "cell_type": "code",
   "execution_count": null,
   "metadata": {},
   "outputs": [],
   "source": []
  },
  {
   "cell_type": "code",
   "execution_count": null,
   "metadata": {},
   "outputs": [],
   "source": []
  },
  {
   "cell_type": "code",
   "execution_count": null,
   "metadata": {},
   "outputs": [],
   "source": []
  }
 ],
 "metadata": {
  "anaconda-cloud": {},
  "kernel_info": {
   "name": "python3"
  },
  "kernelspec": {
   "display_name": "Python 3",
   "language": "python",
   "name": "python3"
  },
  "language_info": {
   "codemirror_mode": {
    "name": "ipython",
    "version": 3
   },
   "file_extension": ".py",
   "mimetype": "text/x-python",
   "name": "python",
   "nbconvert_exporter": "python",
   "pygments_lexer": "ipython3",
   "version": "3.7.4"
  },
  "latex_envs": {
   "LaTeX_envs_menu_present": true,
   "autoclose": false,
   "autocomplete": true,
   "bibliofile": "biblio.bib",
   "cite_by": "apalike",
   "current_citInitial": 1,
   "eqLabelWithNumbers": true,
   "eqNumInitial": 1,
   "hotkeys": {
    "equation": "Ctrl-E",
    "itemize": "Ctrl-I"
   },
   "labels_anchors": false,
   "latex_user_defs": false,
   "report_style_numbering": false,
   "user_envs_cfg": false
  },
  "nteract": {
   "version": "0.2.0"
  }
 },
 "nbformat": 4,
 "nbformat_minor": 2
}
